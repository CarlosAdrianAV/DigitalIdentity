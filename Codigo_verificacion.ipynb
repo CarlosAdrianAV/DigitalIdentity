{
 "cells": [
  {
   "cell_type": "markdown",
   "id": "89ac9430",
   "metadata": {},
   "source": [
    "# DEMO:Manejo de Credenciales verificables centralizado y descentralizado\n",
    "\n",
    "Acontinuacion realizaremos una demostracion que ilustra el manejo de credenciales verificables uno centralizado y otro descentralizado.Utilizamos criptografia de clave publica para firmar y verificar estas credenciales.\n",
    "\n",
    "Simularemos la emisión, verificación, falsificación y revocación (en el caso centralizado) de credenciales digitales."
   ]
  },
  {
   "cell_type": "markdown",
   "id": "1e132ed9",
   "metadata": {},
   "source": [
    "### Importacion de librerias a trabajar: Importacion de modulos y librerias\n",
    "\n",
    "\n",
    "\n"
   ]
  },
  {
   "cell_type": "code",
   "execution_count": null,
   "id": "920d2212",
   "metadata": {},
   "outputs": [],
   "source": [
    "import json  # para manejar JSON\n",
    "import uuid  # para generar identificadores únicos\n",
    "import time  # para obtener el tiempo actual\n",
    "from typing import Dict, Any, Tuple, Set, Optional # para definir tipos\n",
    "\n",
    "# para crear widgets interactivos ,para mostrar y limpiar salidas\n",
    "import ipywidgets as widgets \n",
    "from IPython.display import display, clear_output \n",
    "\n",
    "# para manejar criptografia\n",
    "from cryptography.hazmat.primitives import hashes, serialization \n",
    "from cryptography.hazmat.primitives.asymmetric import ec\n",
    "from cryptography.hazmat.primitives.asymmetric.ec import EllipticCurvePrivateKey, EllipticCurvePublicKey\n",
    "from cryptography.exceptions import InvalidSignature"
   ]
  },
  {
   "cell_type": "markdown",
   "id": "2387d769",
   "metadata": {},
   "source": [
    "#### Constantes"
   ]
  },
  {
   "cell_type": "code",
   "execution_count": null,
   "id": "a44f4786",
   "metadata": {},
   "outputs": [],
   "source": [
    "# Se designan los nombre a los campos usados en los diccioarios que representan credenciales\n",
    "\n",
    "CREDENTIAL_ID = \"credential_id\"\n",
    "USER_ID = \"user_id\"\n",
    "SUBJECT = \"subject\"\n",
    "CLAIM = \"claim\"\n",
    "VALUE = \"value\"\n",
    "TIMESTAMP = \"timestamp\"\n",
    "MAYOR_DE_EDAD_CLAIM = \"mayor_de_edad\""
   ]
  },
  {
   "cell_type": "markdown",
   "id": "ceef9a02",
   "metadata": {},
   "source": [
    "#### Claves y Estructuras Globales"
   ]
  },
  {
   "cell_type": "code",
   "execution_count": null,
   "id": "e0ea7801",
   "metadata": {},
   "outputs": [],
   "source": [
    "# --- Claves de la autoridad (modo centralizado) ---\n",
    "authority_private_key: EllipticCurvePrivateKey = ec.generate_private_key(ec.SECP256R1())\n",
    "authority_public_key: EllipticCurvePublicKey = authority_private_key.public_key()\n",
    "\n",
    "# Lista (set) de credenciales revocadas (identificadas por su UUID)\n",
    "revoked_credentials: Set[str] = set()\n",
    "\n",
    "# Para “descentralizado”, guardamos la clave pública del usuario en este diccionario simulado de \"ledger\"\n",
    "# ledger_users = { usuario_id_str (UUID) : public_key_object }\n",
    "ledger_users: Dict[str, EllipticCurvePublicKey] = {}"
   ]
  }
 ],
 "metadata": {
  "kernelspec": {
   "display_name": "base",
   "language": "python",
   "name": "python3"
  },
  "language_info": {
   "codemirror_mode": {
    "name": "ipython",
    "version": 3
   },
   "file_extension": ".py",
   "mimetype": "text/x-python",
   "name": "python",
   "nbconvert_exporter": "python",
   "pygments_lexer": "ipython3",
   "version": "3.11.4"
  }
 },
 "nbformat": 4,
 "nbformat_minor": 5
}
