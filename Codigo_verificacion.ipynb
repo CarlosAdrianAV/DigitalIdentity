{
 "cells": [
  {
   "cell_type": "markdown",
   "id": "89ac9430",
   "metadata": {},
   "source": [
    "# DEMO:Manejo de Credenciales verificables centralizado y descentralizado\n",
    "\n",
    "Acontinuacion realizaremos una demostracion que ilustra el manejo de credenciales verificables uno centralizado y otro descentralizado.Utilizamos criptografia de clave publica para firmar y verificar estas credenciales.\n",
    "\n",
    "Simularemos la emisión, verificación, falsificación y revocación (en el caso centralizado) de credenciales digitales."
   ]
  },
  {
   "cell_type": "markdown",
   "id": "1e132ed9",
   "metadata": {},
   "source": [
    "### Importacion de librerias a trabajar: Importacion de modulos y librerias\n",
    "\n",
    "\n",
    "\n"
   ]
  },
  {
   "cell_type": "code",
   "execution_count": null,
   "id": "920d2212",
   "metadata": {},
   "outputs": [],
   "source": [
    "import json  # para manejar JSON\n",
    "import uuid  # para generar identificadores únicos\n",
    "import time  # para obtener el tiempo actual\n",
    "from typing import Dict, Any, Tuple, Set, Optional # para definir tipos\n",
    "\n",
    "# para crear widgets interactivos ,para mostrar y limpiar salidas\n",
    "import ipywidgets as widgets \n",
    "from IPython.display import display, clear_output \n",
    "\n",
    "# para manejar criptografia\n",
    "from cryptography.hazmat.primitives import hashes, serialization \n",
    "from cryptography.hazmat.primitives.asymmetric import ec\n",
    "from cryptography.hazmat.primitives.asymmetric.ec import EllipticCurvePrivateKey, EllipticCurvePublicKey\n",
    "from cryptography.exceptions import InvalidSignature"
   ]
  },
  {
   "cell_type": "markdown",
   "id": "2387d769",
   "metadata": {},
   "source": [
    "#### Constantes"
   ]
  },
  {
   "cell_type": "code",
   "execution_count": null,
   "id": "a44f4786",
   "metadata": {},
   "outputs": [],
   "source": [
    "# Se designan los nombre a los campos usados en los diccioarios que representan credenciales\n",
    "\n",
    "CREDENTIAL_ID = \"credential_id\"\n",
    "USER_ID = \"user_id\"\n",
    "SUBJECT = \"subject\"\n",
    "CLAIM = \"claim\"\n",
    "VALUE = \"value\"\n",
    "TIMESTAMP = \"timestamp\"\n",
    "MAYOR_DE_EDAD_CLAIM = \"mayor_de_edad\""
   ]
  },
  {
   "cell_type": "markdown",
   "id": "ceef9a02",
   "metadata": {},
   "source": [
    "#### Claves y Estructuras Globales"
   ]
  },
  {
   "cell_type": "code",
   "execution_count": null,
   "id": "e0ea7801",
   "metadata": {},
   "outputs": [],
   "source": [
    "# --- Claves de la autoridad (modo centralizado) ---\n",
    "authority_private_key: EllipticCurvePrivateKey = ec.generate_private_key(ec.SECP256R1())\n",
    "authority_public_key: EllipticCurvePublicKey = authority_private_key.public_key()\n",
    "\n",
    "# Lista (set) de credenciales revocadas (identificadas por su UUID)\n",
    "revoked_credentials: Set[str] = set()\n",
    "\n",
    "# Para “descentralizado”, guardamos la clave pública del usuario en este diccionario simulado de \"ledger\"\n",
    "# ledger_users = { usuario_id_str (UUID) : public_key_object }\n",
    "ledger_users: Dict[str, EllipticCurvePublicKey] = {}"
   ]
  },
  {
   "cell_type": "markdown",
   "id": "3619ad4b",
   "metadata": {},
   "source": [
    "#### Funciones criptográficas genericas"
   ]
  },
  {
   "cell_type": "code",
   "execution_count": null,
   "id": "c991593f",
   "metadata": {},
   "outputs": [],
   "source": [
    "\n",
    "def generate_credential_id_and_json(credential_data: Dict[str, Any]) -> Tuple[str, bytes]:\n",
    "    \"\"\"\n",
    "    Genera un ID único para la credencial, lo añade al diccionario y serializa a JSON.\n",
    "    \"\"\"\n",
    "    cred_id = str(uuid.uuid4())\n",
    "    credential_data[CREDENTIAL_ID] = cred_id\n",
    "    credential_json = json.dumps(credential_data, sort_keys=True).encode('utf-8') # sort_keys para consistencia\n",
    "    return cred_id, credential_json"
   ]
  },
  {
   "cell_type": "code",
   "execution_count": null,
   "id": "fc77f356",
   "metadata": {},
   "outputs": [],
   "source": [
    "def sign_credential_data(private_key: EllipticCurvePrivateKey, data_bytes: bytes) -> bytes:\n",
    "    \"\"\"\n",
    "    Firma los bytes de datos proporcionados con la clave privada.\n",
    "    \"\"\"\n",
    "    return private_key.sign(data_bytes, ec.ECDSA(hashes.SHA256()))"
   ]
  },
  {
   "cell_type": "code",
   "execution_count": null,
   "id": "0915fd93",
   "metadata": {},
   "outputs": [],
   "source": [
    "def verify_credential_signature(public_key: EllipticCurvePublicKey, data_bytes: bytes, signature: bytes) -> bool:\n",
    "    \"\"\"\n",
    "    Verifica la firma de los datos con la clave pública.\n",
    "    Retorna True si la firma es correcta, False si no lo es.\n",
    "    \"\"\"\n",
    "    try:\n",
    "        public_key.verify(signature, data_bytes, ec.ECDSA(hashes.SHA256()))\n",
    "        return True\n",
    "    except InvalidSignature:\n",
    "        return False"
   ]
  },
  {
   "cell_type": "markdown",
   "id": "7df423db",
   "metadata": {},
   "source": [
    "WIDGETS Y LÓGICA – MODO CENTRALIZADO"
   ]
  },
  {
   "cell_type": "code",
   "execution_count": null,
   "id": "5757cda7",
   "metadata": {},
   "outputs": [],
   "source": [
    "# Variables de estado para centralizado\n",
    "# Usamos Optional para indicar que pueden ser None inicialmente\n",
    "current_central_cred_data: Optional[Dict[str, Any]] = None\n",
    "current_central_cred_json: Optional[bytes] = None\n",
    "current_central_signature: Optional[bytes] = None\n",
    "current_central_cred_id: Optional[str] = None"
   ]
  },
  {
   "cell_type": "code",
   "execution_count": null,
   "id": "1194ea15",
   "metadata": {},
   "outputs": [],
   "source": [
    "# Widgets para el flujo “Centralizado”\n",
    "nombre_input_c = widgets.Text(description=\"Usuario:\", placeholder=\"Escribe un nombre\")\n",
    "edad_check_c = widgets.Checkbox(description=\"¿Es mayor de edad?\", value=True)\n",
    "btn_emitir_c = widgets.Button(description=\"Emitir y Verificar\", button_style='success')\n",
    "btn_falsif_c = widgets.Button(description=\"Simular Falsificación\", button_style='danger')\n",
    "btn_revoke_c = widgets.Button(description=\"Revocar Credencial\", button_style='warning')\n",
    "output_central = widgets.Output()"
   ]
  },
  {
   "cell_type": "code",
   "execution_count": null,
   "id": "7afcbe8c",
   "metadata": {},
   "outputs": [],
   "source": [
    "def emitir_y_verificar_central(btn: widgets.Button) -> None:\n",
    "    \"\"\"\n",
    "    - Crea un objeto credencial.\n",
    "    - Firma con la clave de la autoridad.\n",
    "    - Verifica inmediatamente la firma y estado de revocación.\n",
    "    - Muestra estado: válido/inválido/revocado.\n",
    "    \"\"\"\n",
    "    global current_central_cred_data, current_central_cred_json, current_central_signature, current_central_cred_id\n",
    "    with output_central:\n",
    "        clear_output(wait=True)\n",
    "        usuario = nombre_input_c.value.strip()\n",
    "        es_mayor = edad_check_c.value\n",
    "\n",
    "        if not usuario:\n",
    "            print(\"⚠️ Debes ingresar un nombre de usuario.\")\n",
    "            return\n",
    "\n",
    "        current_central_cred_data = {\n",
    "            SUBJECT: usuario,\n",
    "            CLAIM: MAYOR_DE_EDAD_CLAIM,\n",
    "            VALUE: es_mayor,\n",
    "            TIMESTAMP: time.time()\n",
    "        }\n",
    "\n",
    "        current_central_cred_id, current_central_cred_json = generate_credential_id_and_json(current_central_cred_data)\n",
    "        current_central_signature = sign_credential_data(authority_private_key, current_central_cred_json)\n",
    "\n",
    "        print(\"✅ [CENTRALIZADO] Credencial generada y firmada por la autoridad:\")\n",
    "        print(json.dumps(current_central_cred_data, indent=2))\n",
    "        print(f\"\\n   ID de Credencial: {current_central_cred_id}\")\n",
    "\n",
    "        print(\"\\n🔍 Verificando firma y estado de la credencial...\")\n",
    "        is_signature_valid = verify_credential_signature(\n",
    "            authority_public_key,\n",
    "            current_central_cred_json,\n",
    "            current_central_signature\n",
    "        )\n",
    "\n",
    "        if not is_signature_valid:\n",
    "            print(\"❌ ¡ERROR CRÍTICO! La firma de la credencial recién emitida es INVÁLIDA.\")\n",
    "            print(\"   Esto no debería ocurrir y podría indicar un problema en la lógica de firma/verificación.\")\n",
    "            return\n",
    "\n",
    "        if current_central_cred_id in revoked_credentials:\n",
    "            print(f\"❌ REVOCADA: La credencial (ID: {current_central_cred_id}) ha sido revocada.\")\n",
    "            print(\"   Aunque la firma sea válida, el acceso no se permite.\")\n",
    "            return\n",
    "\n",
    "        print(\"✅ Firma de la credencial VÁLIDA.\")\n",
    "        if current_central_cred_data[VALUE]:\n",
    "            print(\"✅ ACCESO PERMITIDO: La credencial es válida y el usuario cumple los requisitos (es mayor de edad).\")\n",
    "        else:\n",
    "            print(\"❌ ACCESO DENEGADO: La credencial es válida, pero el usuario NO cumple los requisitos (no es mayor de edad).\")\n"
   ]
  },
  {
   "cell_type": "code",
   "execution_count": null,
   "id": "c01c2852",
   "metadata": {},
   "outputs": [],
   "source": [
    "def falsificar_credencial_central(btn: widgets.Button) -> None:\n",
    "    \"\"\"\n",
    "    - Simula una alteración de la credencial centralizada actual.\n",
    "    - Intenta verificar la firma con el JSON modificado; debe FALLAR.\n",
    "    \"\"\"\n",
    "    with output_central:\n",
    "        clear_output(wait=True)\n",
    "        if current_central_cred_data is None or current_central_signature is None:\n",
    "            print(\"⚠️ Primero debes generar una credencial (Emitir y Verificar).\")\n",
    "            return\n",
    "\n",
    "        # Simular modificación maliciosa\n",
    "        cred_falsa_data = current_central_cred_data.copy()\n",
    "        cred_falsa_data[VALUE] = not current_central_cred_data[VALUE] # Invertimos el valor\n",
    "\n",
    "        # Es importante recalcular el JSON porque el orden de las claves podría cambiar\n",
    "        # o si se añade/quita el cred_id_central, aunque aquí lo mantenemos igual\n",
    "        # por simplicidad de la falsificación.\n",
    "        # Para una falsificación \"perfecta\" que intente reutilizar el ID, el falsificador\n",
    "        # tendría que asegurarse que el JSON es idéntico excepto por el valor.\n",
    "        # Aquí, simplemente generamos el JSON a partir del diccionario modificado.\n",
    "        _ , cred_falsa_json = generate_credential_id_and_json(cred_falsa_data)\n",
    "        # Pero usamos la firma ORIGINAL\n",
    "\n",
    "        print(\"🛑 [CENTRALIZADO] Intentando verificar una credencial falsificada:\")\n",
    "        print(\"   Contenido Original:\")\n",
    "        print(json.dumps(current_central_cred_data, indent=2))\n",
    "        print(\"   Contenido Falsificado (solo 'value' cambiado):\")\n",
    "        print(json.dumps(cred_falsa_data, indent=2))\n",
    "\n",
    "\n",
    "        is_falsa_signature_valid = verify_credential_signature(\n",
    "            authority_public_key,\n",
    "            cred_falsa_json, # Usamos el JSON de la credencial alterada\n",
    "            current_central_signature # Pero la firma de la original\n",
    "        )\n",
    "\n",
    "        if is_falsa_signature_valid:\n",
    "            print(\"🚨 ¡FALLO DE SEGURIDAD! La verificación de la credencial falsificada fue EXITOSA.\")\n",
    "            print(\"   Esto NO debería pasar y sugiere un error en la lógica o una debilidad.\")\n",
    "        else:\n",
    "            print(\"✅ DETECCIÓN CORRECTA: La firma de la credencial falsificada es INVÁLIDA, como se esperaba.\")\n"
   ]
  },
  {
   "cell_type": "code",
   "execution_count": null,
   "id": "d84f2a48",
   "metadata": {},
   "outputs": [],
   "source": [
    "def revocar_credencial_central(btn: widgets.Button) -> None:\n",
    "    \"\"\"\n",
    "    - Revoca la credencial centralizada actual añadiendo su ID a `revoked_credentials`.\n",
    "    \"\"\"\n",
    "    with output_central:\n",
    "        clear_output(wait=True)\n",
    "        if current_central_cred_id is None:\n",
    "            print(\"⚠️ Primero debes generar una credencial para poder revocarla.\")\n",
    "            return\n",
    "\n",
    "        if current_central_cred_id in revoked_credentials:\n",
    "            print(f\"ℹ️ La credencial (ID: {current_central_cred_id}) ya estaba revocada.\")\n",
    "        else:\n",
    "            revoked_credentials.add(current_central_cred_id)\n",
    "            print(f\"🛑 REVOCADA: La credencial (ID: {current_central_cred_id}) ha sido añadida a la lista de revocación.\")\n",
    "\n",
    "        print(\"\\n   Cualquier intento futuro de verificar esta credencial indicará que está revocada,\")\n",
    "        print(\"   incluso si la firma criptográfica sigue siendo técnicamente válida.\")"
   ]
  },
  {
   "cell_type": "code",
   "execution_count": null,
   "id": "82e961f6",
   "metadata": {},
   "outputs": [],
   "source": [
    "# Conectar botones\n",
    "btn_emitir_c.on_click(emitir_y_verificar_central)\n",
    "btn_falsif_c.on_click(falsificar_credencial_central)\n",
    "btn_revoke_c.on_click(revocar_credencial_central)"
   ]
  },
  {
   "cell_type": "code",
   "execution_count": null,
   "id": "dad492fd",
   "metadata": {},
   "outputs": [],
   "source": [
    "# Contenedor visual para centralizado\n",
    "central_box = widgets.VBox([\n",
    "    widgets.HTML(\"<h2>MODO CENTRALIZADO (Autoridad Emisora Única)</h2>\"),\n",
    "    nombre_input_c,\n",
    "    edad_check_c,\n",
    "    widgets.HBox([btn_emitir_c, btn_falsif_c, btn_revoke_c]),\n",
    "    output_central\n",
    "])"
   ]
  },
  {
   "cell_type": "markdown",
   "id": "f3094d71",
   "metadata": {},
   "source": [
    "WIDGETS Y LÓGICA – MODO DESCENTRALIZADO"
   ]
  },
  {
   "cell_type": "code",
   "execution_count": null,
   "id": "16d8e38e",
   "metadata": {},
   "outputs": [],
   "source": [
    "# Variables de estado para descentralizado\n",
    "current_user_private_key: Optional[EllipticCurvePrivateKey] = None\n",
    "current_user_public_key: Optional[EllipticCurvePublicKey] = None\n",
    "current_user_id_str: Optional[str] = None # UUID del usuario en nuestro ledger simulado\n",
    "\n",
    "current_decent_cred_data: Optional[Dict[str, Any]] = None\n",
    "current_decent_cred_json: Optional[bytes] = None\n",
    "current_decent_signature: Optional[bytes] = None\n",
    "# current_decent_cred_id no es tan crucial aquí como en centralizado para revocación,\n",
    "# pero se sigue generando y guardando en la credencial."
   ]
  },
  {
   "cell_type": "code",
   "execution_count": null,
   "id": "6f65fe6a",
   "metadata": {},
   "outputs": [],
   "source": [
    "# Widgets para el flujo “Descentralizado”\n",
    "btn_gen_keys = widgets.Button(description=\"1. Generar Mi Identidad (Claves)\", button_style='info')\n",
    "lbl_user_info = widgets.HTML(\"\")\n",
    "nombre_input_d = widgets.Text(description=\"Atributo 'Sujeto':\", placeholder=\"Escribe un nombre (opcional)\")\n",
    "edad_check_d = widgets.Checkbox(description=\"Atributo '¿Mayor de edad?':\", value=True)\n",
    "btn_sign_d = widgets.Button(description=\"2. Firmar Mi Credencial\", button_style='success')\n",
    "btn_verify_d = widgets.Button(description=\"3. Verificar Credencial (Como Verificador)\", button_style='primary')\n",
    "btn_falsif_d = widgets.Button(description=\"4. Simular Falsificación\", button_style='danger')\n",
    "output_decent = widgets.Output()"
   ]
  },
  {
   "cell_type": "code",
   "execution_count": null,
   "id": "f16a59bc",
   "metadata": {},
   "outputs": [],
   "source": [
    "def generate_user_keys_decentralized(btn: widgets.Button) -> None:\n",
    "    \"\"\"\n",
    "    - Genera un par de claves para el usuario (self-sovereign).\n",
    "    - Simula el registro de la clave pública en un \"ledger\".\n",
    "    \"\"\"\n",
    "    global current_user_private_key, current_user_public_key, current_user_id_str\n",
    "    with output_decent:\n",
    "        clear_output(wait=True)\n",
    "        current_user_private_key = ec.generate_private_key(ec.SECP256R1())\n",
    "        current_user_public_key = current_user_private_key.public_key()\n",
    "        current_user_id_str = str(uuid.uuid4()) # Este ID es para nuestro \"ledger\" simulado\n",
    "\n",
    "        ledger_users[current_user_id_str] = current_user_public_key\n",
    "\n",
    "        pem = current_user_public_key.public_bytes(\n",
    "            encoding=serialization.Encoding.PEM,\n",
    "            format=serialization.PublicFormat.SubjectPublicKeyInfo\n",
    "        ).decode('utf-8')\n",
    "\n",
    "        lbl_user_info.value = (\n",
    "            f\"<b>Identidad Generada:</b><br>\"\n",
    "            f\"<b>ID de Usuario (en Ledger):</b> {current_user_id_str}<br>\"\n",
    "            f\"<b>Clave Pública (PEM format):</b><br><pre style='font-size:10px; word-wrap:break-word;'>{pem}</pre>\"\n",
    "        )\n",
    "        print(\"✅ Identidad (par de claves) generada y clave pública 'registrada' en el ledger.\")\n",
    "        print(\"   Ahora puedes crear y firmar tu propia credencial.\")\n",
    "\n",
    "def sign_credential_decentralized(btn: widgets.Button) -> None:\n",
    "    \"\"\"\n",
    "    - El usuario firma su propia credencial con su clave privada.\n",
    "    - La credencial incluye el ID del usuario para que el verificador pueda buscar su clave pública.\n",
    "    \"\"\"\n",
    "    global current_decent_cred_data, current_decent_cred_json, current_decent_signature\n",
    "    with output_decent:\n",
    "        clear_output(wait=True)\n",
    "        if current_user_private_key is None or current_user_id_str is None:\n",
    "            print(\"⚠️ Primero debes generar tu identidad (par de claves) en el paso 1.\")\n",
    "            return\n",
    "\n",
    "        usuario_declarado = nombre_input_d.value.strip()\n",
    "        es_mayor_declarado = edad_check_d.value\n",
    "\n",
    "        current_decent_cred_data = {\n",
    "            USER_ID: current_user_id_str, # Importante: para que el verificador encuentre la clave pública\n",
    "            SUBJECT: usuario_declarado,   # El usuario decide qué sujeto incluir\n",
    "            CLAIM: MAYOR_DE_EDAD_CLAIM,\n",
    "            VALUE: es_mayor_declarado,\n",
    "            TIMESTAMP: time.time()\n",
    "        }\n",
    "\n",
    "        _ , current_decent_cred_json = generate_credential_id_and_json(current_decent_cred_data)\n",
    "        current_decent_signature = sign_credential_data(current_user_private_key, current_decent_cred_json)\n",
    "\n",
    "        # Extraer el ID de la credencial del diccionario después de que generate_credential_id_and_json lo añada\n",
    "        cred_id_display = current_decent_cred_data.get(CREDENTIAL_ID, \"N/A\")\n",
    "\n",
    "\n",
    "        print(\"✅ [DESCENTRALIZADO] Credencial auto-firmada por el usuario:\")\n",
    "        print(json.dumps(current_decent_cred_data, indent=2))\n",
    "        print(f\"\\n   ID de Credencial: {cred_id_display}\")\n",
    "        print(f\"   Firma (hex):\\n   {current_decent_signature.hex()}\")\n",
    "        print(\"\\n➡️ A continuación, un verificador puede comprobar esta credencial (paso 3).\")"
   ]
  }
 ],
 "metadata": {
  "kernelspec": {
   "display_name": "base",
   "language": "python",
   "name": "python3"
  },
  "language_info": {
   "codemirror_mode": {
    "name": "ipython",
    "version": 3
   },
   "file_extension": ".py",
   "mimetype": "text/x-python",
   "name": "python",
   "nbconvert_exporter": "python",
   "pygments_lexer": "ipython3",
   "version": "3.10.16"
  }
 },
 "nbformat": 4,
 "nbformat_minor": 5
}
