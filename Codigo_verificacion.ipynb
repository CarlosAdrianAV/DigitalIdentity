{
 "cells": [
  {
   "cell_type": "markdown",
   "id": "89ac9430",
   "metadata": {},
   "source": [
    "# DEMO:Manejo de Credenciales verificables centralizado y descentralizado\n",
    "\n",
    "Acontinuacion realizaremos una demostracion que ilustra el manejo de credenciales verificables uno centralizado y otro descentralizado.Utilizamos criptografia de clave publica para firmar y verificar estas credenciales.\n",
    "\n",
    "Simularemos la emisión, verificación, falsificación y revocación (en el caso centralizado) de credenciales digitales."
   ]
  },
  {
   "cell_type": "markdown",
   "id": "1e132ed9",
   "metadata": {},
   "source": [
    "#### Importacion de librerias a trabajar"
   ]
  },
  {
   "cell_type": "code",
   "execution_count": null,
   "id": "920d2212",
   "metadata": {},
   "outputs": [],
   "source": [
    "import json\n",
    "import uuid\n",
    "import time\n",
    "from typing import Dict, Any, Tuple, Set, Optional\n",
    "\n",
    "import ipywidgets as widgets\n",
    "from IPython.display import display, clear_output\n",
    "from cryptography.hazmat.primitives import hashes, serialization\n",
    "from cryptography.hazmat.primitives.asymmetric import ec\n",
    "from cryptography.hazmat.primitives.asymmetric.ec import EllipticCurvePrivateKey, EllipticCurvePublicKey\n",
    "from cryptography.exceptions import InvalidSignature"
   ]
  }
 ],
 "metadata": {
  "kernelspec": {
   "display_name": "base",
   "language": "python",
   "name": "python3"
  },
  "language_info": {
   "name": "python",
   "version": "3.11.4"
  }
 },
 "nbformat": 4,
 "nbformat_minor": 5
}
